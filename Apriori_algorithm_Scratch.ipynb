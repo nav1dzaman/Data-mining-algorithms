{
  "nbformat": 4,
  "nbformat_minor": 0,
  "metadata": {
    "colab": {
      "provenance": []
    },
    "kernelspec": {
      "name": "python3",
      "display_name": "Python 3"
    },
    "language_info": {
      "name": "python"
    }
  },
  "cells": [
    {
      "cell_type": "code",
      "source": [
        "from google.colab import drive\n",
        "drive.mount('/content/drive')"
      ],
      "metadata": {
        "colab": {
          "base_uri": "https://localhost:8080/"
        },
        "id": "eLWDV9JQgdET",
        "outputId": "00bbf601-d89c-4cb0-d9e9-65f8f64920fc"
      },
      "execution_count": null,
      "outputs": [
        {
          "output_type": "stream",
          "name": "stdout",
          "text": [
            "Mounted at /content/drive\n"
          ]
        }
      ]
    },
    {
      "cell_type": "code",
      "source": [
        "cd /content/drive/MyDrive/477"
      ],
      "metadata": {
        "colab": {
          "base_uri": "https://localhost:8080/"
        },
        "id": "8bbc4QVEgeX0",
        "outputId": "debc9fe3-d5d1-4b78-f39a-09838d360f54"
      },
      "execution_count": null,
      "outputs": [
        {
          "output_type": "stream",
          "name": "stdout",
          "text": [
            "/content/drive/MyDrive/477\n"
          ]
        }
      ]
    },
    {
      "cell_type": "code",
      "source": [
        "class pattern:\n",
        "  def __init__(self,iset,s):\n",
        "    self.itemset=iset.copy()\n",
        "    self.support=s"
      ],
      "metadata": {
        "id": "cIeUP-ydgnSr"
      },
      "execution_count": null,
      "outputs": []
    },
    {
      "cell_type": "code",
      "source": [
        "#DRIVERS\n",
        "from itertools import combinations\n",
        "path=\"mushroom.dat\"\n",
        "\n",
        "def joinable(X,Y):\n",
        "  ans=1\n",
        "  for i in range(0,len(X)-1):\n",
        "    if X[i]!=Y[i]:\n",
        "      ans=0\n",
        "      break\n",
        "  return ans\n",
        "\n",
        "def subsets(numbers):\n",
        "    if numbers == []:\n",
        "        return [[]]\n",
        "    x = subsets(numbers[1:])\n",
        "    return x + [[numbers[0]] + y for y in x]\n",
        "\n",
        "def subsets_of_given_size(numbers, nn):\n",
        "  subsequences = []\n",
        "  for subsequence in combinations(numbers, nn):\n",
        "    subsequences.append(list(subsequence))\n",
        "  return subsequences\n",
        "\n",
        "\n",
        "def all_print():\n",
        "  for j in range(0,len(L)):\n",
        "    for i in range(0,len(L[j])):\n",
        "      print(L[j][i].itemset,L[j][i].support)\n",
        "\n",
        "\n",
        "\n",
        "def downward_clouser(Y,leng,prev):\n",
        "  store=[]\n",
        "  #sub sequencesize=leng\n",
        "  tmp=subsets_of_given_size(Y,leng)\n",
        "  for j in tmp:\n",
        "    store.append(j)\n",
        "\n",
        "  present=0\n",
        "  for i in range(0,len(store)):\n",
        "    for j in range(0,len(L[prev])):\n",
        "      #print(store[i],L[0][j].itemset)\n",
        "      if store[i]==L[prev][j].itemset:\n",
        "        present+=1\n",
        "        break\n",
        "  value=0\n",
        "  #print(present)\n",
        "  if len(store)==present:\n",
        "   value=1\n",
        "  return value\n",
        "\n",
        "\n",
        "\n",
        "\n",
        "def do_join(X,Y):\n",
        "  temp=[]\n",
        "  for i in X:\n",
        "    temp.append(i)\n",
        "  #temp.append(X[0])\n",
        "  temp.append(Y[len(Y)-1])\n",
        "  return temp\n",
        "\n",
        "\n",
        "def count_support(value_of_c):\n",
        "\n",
        "  for i in range(0,len(C[value_of_c])):\n",
        "    item1 = C[value_of_c][i].itemset # i1 i2\n",
        "    files = open(path,'r')\n",
        "    while True:\n",
        "      line = files.readline()\n",
        "      if not line:\n",
        "           break\n",
        "      token = line.split()\n",
        "      token.sort()\n",
        "      #print(token)\n",
        "      cnt=0\n",
        "      for h in range(0,len(item1)):\n",
        "       for k in range(0,len(token)):\n",
        "        if item1[h]==token[k]:\n",
        "          cnt+=1\n",
        "      if cnt>=len(item1):\n",
        "        C[value_of_c][i].support+=1\n",
        "\n",
        "\n",
        "\n",
        "def generate_frequent_table(value_of_c):\n",
        "  L.append([])\n",
        "  for i in range(0,len(C[value_of_c])):\n",
        "    if C[value_of_c][i].support>=min_threshold:\n",
        "        L[value_of_c].append(C[value_of_c][i])\n",
        "\n",
        "\n",
        "def candidate_table(value_of_L,sub_sequence_leng,prev): # 0 1 0\n",
        " C.append([])\n",
        " for i in range(0,len(L[value_of_L])):\n",
        "   x=L[value_of_L][i].itemset\n",
        "   for j in range(i+1,len(L[value_of_L])):\n",
        "     ans=joinable(x,L[value_of_L][j].itemset)\n",
        "     tp=do_join(x,L[value_of_L][j].itemset)\n",
        "     tp.sort()\n",
        "     ans2=downward_clouser(tp,sub_sequence_leng,prev)\n",
        "     #ans2=downward_clouser(tp)\n",
        "     if ans==1 and ans2==1:\n",
        "       tmp_pattern=pattern(tp,0)\n",
        "       C[value_of_L+1].append(tmp_pattern)\n"
      ],
      "metadata": {
        "id": "sP3AWfTegoxK"
      },
      "execution_count": null,
      "outputs": []
    },
    {
      "cell_type": "code",
      "source": [
        "import time\n",
        "start = time.time()\n",
        "C=[]\n",
        "C.append([])\n",
        "L=[]\n",
        "L.append([])\n",
        "itemlist=[]\n",
        "\n",
        "file_s=open(path,\"r\")\n",
        "n=0\n",
        "while True:\n",
        "    line=file_s.readline()\n",
        "    if not line:\n",
        "        break\n",
        "    n+=1\n",
        "    token=line.split()\n",
        "    token.sort()\n",
        "    for i in token: #dual loop\n",
        "      p=[]\n",
        "      p.append(i)\n",
        "      tmp=pattern(p,1)\n",
        "      cnt=0\n",
        "      for j in range(0,len(C[0])):\n",
        "        if C[0][j].itemset==tmp.itemset:\n",
        "          C[0][j].support+=1\n",
        "          cnt=1\n",
        "          break\n",
        "      if cnt==0:\n",
        "        C[0].append(tmp)\n",
        "\n",
        "\n",
        "file_s.close()\n",
        "#Generating L0\n",
        "min_threshold=(60/100)*n\n",
        "print(n,\"n\")\n",
        "for i in range(0,len(C[0])):\n",
        "    if C[0][i].support>=min_threshold:\n",
        "        L[0].append(C[0][i])\n",
        "#-------L0,C0 generated-----#\n",
        "\n",
        "\n",
        "\n",
        "max_pat=0\n",
        "for i in range(0,30):\n",
        "  candidate_table(i,i+1,i)\n",
        "  count_support(i+1)\n",
        "  generate_frequent_table(i+1)\n",
        "  max_pat+=1\n",
        "  if len(L[i+1])==0:\n",
        "    break\n",
        "\n",
        "end = time.time()\n",
        "\n",
        "print(\"The time of execution of above program is :\",\n",
        "      (end-start), \"s\")\n",
        "\n",
        "\n",
        "all_print()\n",
        "\n",
        "\n",
        "\n"
      ],
      "metadata": {
        "colab": {
          "base_uri": "https://localhost:8080/"
        },
        "id": "tJWLd1Yrgvvb",
        "outputId": "c47ba6cf-41f2-4b36-99fc-70ed0927edd8"
      },
      "execution_count": null,
      "outputs": [
        {
          "output_type": "stream",
          "name": "stdout",
          "text": [
            "8124 n\n",
            "The time of execution of above program is : 7.580431699752808 s\n",
            "['34'] 7914\n",
            "['36'] 6812\n",
            "['59'] 5176\n",
            "['63'] 4936\n",
            "['85'] 8124\n",
            "['86'] 7924\n",
            "['90'] 7488\n",
            "['39'] 5612\n",
            "['34', '36'] 6602\n",
            "['34', '59'] 4984\n",
            "['34', '85'] 7914\n",
            "['34', '86'] 7906\n",
            "['34', '90'] 7296\n",
            "['34', '39'] 5402\n",
            "['36', '85'] 6812\n",
            "['36', '86'] 6620\n",
            "['36', '90'] 6464\n",
            "['59', '85'] 5176\n",
            "['59', '86'] 4984\n",
            "['63', '85'] 4936\n",
            "['85', '86'] 7924\n",
            "['85', '90'] 7488\n",
            "['39', '85'] 5612\n",
            "['86', '90'] 7288\n",
            "['39', '86'] 5420\n",
            "['39', '90'] 4976\n",
            "['34', '36', '85'] 6602\n",
            "['34', '36', '86'] 6602\n",
            "['34', '36', '90'] 6272\n",
            "['34', '59', '85'] 4984\n",
            "['34', '59', '86'] 4984\n",
            "['34', '85', '86'] 7906\n",
            "['34', '85', '90'] 7296\n",
            "['34', '39', '85'] 5402\n",
            "['34', '86', '90'] 7288\n",
            "['34', '39', '86'] 5402\n",
            "['36', '85', '86'] 6620\n",
            "['36', '85', '90'] 6464\n",
            "['36', '86', '90'] 6272\n",
            "['59', '85', '86'] 4984\n",
            "['85', '86', '90'] 7288\n",
            "['39', '85', '86'] 5420\n",
            "['39', '85', '90'] 4976\n",
            "['34', '36', '85', '86'] 6602\n",
            "['34', '36', '85', '90'] 6272\n",
            "['34', '36', '86', '90'] 6272\n",
            "['34', '59', '85', '86'] 4984\n",
            "['34', '85', '86', '90'] 7288\n",
            "['34', '39', '85', '86'] 5402\n",
            "['36', '85', '86', '90'] 6272\n",
            "['34', '36', '85', '86', '90'] 6272\n"
          ]
        }
      ]
    }
  ]
}